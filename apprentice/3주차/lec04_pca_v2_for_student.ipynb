{
  "nbformat": 4,
  "nbformat_minor": 0,
  "metadata": {
    "colab": {
      "provenance": []
    },
    "kernelspec": {
      "name": "python3",
      "display_name": "Python 3"
    },
    "language_info": {
      "name": "python"
    }
  },
  "cells": [
    {
      "cell_type": "markdown",
      "source": [
        "# PCA\n",
        "\n",
        "\n",
        "- step1. normalization\n",
        "- step2. covariance matrix\n",
        "- step3. eigen stuff (eigen vector, eigen - value)\n",
        "- step4. principa component\n",
        "- step5. reconstructing the original data"
      ],
      "metadata": {
        "id": "rjxHpOx_rf-L"
      }
    },
    {
      "cell_type": "markdown",
      "source": [
        "### Data Set\n"
      ],
      "metadata": {
        "id": "wlIFg2x0rn-9"
      }
    },
    {
      "cell_type": "code",
      "source": [
        "import numpy as np\n",
        "\n",
        "x = np.array([170, 174, 172, 176, 168, 166])\n",
        "y = np.array([68, 80, 79, 86, 60, 61])"
      ],
      "metadata": {
        "id": "kh7sqKVSi2jI"
      },
      "execution_count": null,
      "outputs": []
    },
    {
      "cell_type": "code",
      "source": [
        "import numpy as np\n",
        "\n",
        "x = np.array([168.9, 165.1, 168.9, 176.4, 166.6, 171.2, 172.8, 172.0, 170.4, 171.9,\n",
        "              174.1, 169.9, 168.7, 167.9, 169.0, 170.3, 174.5, 172.2, 165.9, 167.3,\n",
        "              174.2, 170.5, 168.2, 169.3, 165.2, 163.3, 172.7, 175.3, 172.6, 166.2,\n",
        "              168.0, 169.8, 169.6, 168.5, 168.3, 165.8, 173.6, 169.4, 167.2, 167.0,\n",
        "              168.8, 168.5, 165.2, 167.2, 175.0, 174.5, 164.5, 172.0, 165.6, 169.1,\n",
        "              170.6, 167.4, 170.0, 170.8, 166.8, 170.0, 171.8, 166.3, 172.3, 172.2,\n",
        "              169.7, 167.9, 172.5, 174.7, 166.3, 167.3, 169.4, 172.1, 170.8, 168.4,\n",
        "              167.2, 172.0, 169.2, 167.9, 170.0, 169.3, 166.5, 171.1, 165.9, 172.2,\n",
        "              165.6, 172.1, 169.4, 171.8, 166.9, 168.7, 166.0, 170.0, 169.3, 174.6,\n",
        "              169.5, 171.0, 166.3, 169.5, 174.1, 170.0, 167.5, 166.8, 170.9, 170.1])\n",
        "\n",
        "y = np.array([64.8, 61.8, 65.5, 73.9, 64.2, 66.8, 70.4, 69.5, 64.2, 66.9,\n",
        "              70.3, 64.7, 64.4, 63.8, 65.4, 66.7, 70.9, 70.2, 60.8, 64.1,\n",
        "              70.1, 67.2, 65.4, 63.9, 62.1, 59.6, 69.6, 71.8, 68.8, 62.9,\n",
        "              64.0, 65.8, 66.4, 65.0, 63.6, 61.6, 70.1, 67.5, 63.9, 62.6,\n",
        "              63.8, 64.2, 62.7, 63.3, 70.9, 69.9, 61.0, 69.1, 62.2, 64.4,\n",
        "              66.5, 63.1, 65.5, 66.9, 62.8, 65.5, 68.1, 63.1, 68.9, 68.3,\n",
        "              66.7, 62.9, 69.2, 71.4, 62.7, 63.8, 65.2, 68.1, 66.8, 64.7,\n",
        "              63.1, 68.1, 65.3, 63.5, 64.9, 65.4, 63.3, 66.4, 62.1, 68.9,\n",
        "              62.3, 67.6, 65.8, 68.0, 62.7, 64.1, 61.9, 65.3, 66.1, 71.2,\n",
        "              65.1, 66.4, 63.0, 65.2, 70.1, 66.5, 63.4, 62.7, 66.7, 65.3])\n"
      ],
      "metadata": {
        "id": "XwgR6FsL793A"
      },
      "execution_count": null,
      "outputs": []
    },
    {
      "cell_type": "code",
      "execution_count": null,
      "metadata": {
        "id": "aUrppi4Xrdce"
      },
      "outputs": [],
      "source": [
        "import numpy as np\n",
        "import matplotlib.pyplot as plt\n",
        "\n",
        "# Data Set\n",
        "# IMPLEMENT HERE\n",
        "\n",
        "# Plot the synthetic data\n",
        "plt.figure(figsize=(8, 6))\n",
        "plt.scatter(data[:, 0], data[:, 1], label='Original Data')\n",
        "plt.xlabel('X')\n",
        "plt.ylabel('Y')\n",
        "plt.title('Synthetic 2D Data')\n",
        "plt.grid(True)\n",
        "plt.legend()\n",
        "plt.show()"
      ]
    },
    {
      "cell_type": "markdown",
      "source": [
        "## PCA using sklearn"
      ],
      "metadata": {
        "id": "KOdCTBLuxbvd"
      }
    },
    {
      "cell_type": "code",
      "source": [
        "import numpy as np\n",
        "import matplotlib.pyplot as plt\n",
        "from sklearn.decomposition import PCA\n",
        "\n",
        "# IMPLEMENT HERE\n",
        "\n",
        "\n",
        "print(\"PCA components (principal axes):\\n\", pca.components_)\n",
        "print(\"Explained variance ratio:\\n\", pca.explained_variance_ratio_)\n",
        "\n",
        "#######################\n",
        "# Draw the graph\n",
        "#######################\n",
        "plt.figure(figsize=(8, 6))\n",
        "plt.scatter(data[:, 0], data[:, 1], label='Original Data', color='blue')\n",
        "\n",
        "mean = np.mean(data, axis=0)\n",
        "for i in range(2):\n",
        "    component = pca.components_[i]\n",
        "    variance = pca.explained_variance_[i]\n",
        "    # Arrow vector scaled by sqrt of variance\n",
        "    vector = component * np.sqrt(variance)\n",
        "    plt.arrow(mean[0], mean[1], vector[0], vector[1],\n",
        "              head_width=0.5, head_length=0.5, ec='r', linewidth=2)\n",
        "    plt.text(mean[0] + vector[0], mean[1] + vector[1], f'PC{i+1}', fontsize=10, color='red')\n",
        "\n",
        "# Plot settings\n",
        "plt.xlabel('X')\n",
        "plt.ylabel('Y')\n",
        "plt.title('PCA with Arrows (Scaled by Variance)')\n",
        "plt.grid(True)\n",
        "plt.axis('equal')\n",
        "plt.legend()\n",
        "plt.show()"
      ],
      "metadata": {
        "id": "02HQ5HZ4rsnd"
      },
      "execution_count": null,
      "outputs": []
    },
    {
      "cell_type": "markdown",
      "source": [
        "## PCA from scratch"
      ],
      "metadata": {
        "id": "1_8mb2Cexg35"
      }
    },
    {
      "cell_type": "markdown",
      "source": [
        "### Step1 Centering"
      ],
      "metadata": {
        "id": "lPWhQn8bkNOC"
      }
    },
    {
      "cell_type": "code",
      "source": [
        "data = np.column_stack((x, y))\n",
        "\n",
        "# IMPLEMENT HERE(cdata)\n",
        "#data =\n",
        "#mean_data =\n",
        "#cdata = data - mean_data    ## centering data\n",
        "\n",
        "# Plot the synthetic data\n",
        "plt.figure(figsize=(8, 6))\n",
        "plt.scatter(cdata[:, 0], cdata[:, 1], label='original Data')\n",
        "plt.xlabel('X')\n",
        "plt.ylabel('Y')\n",
        "plt.title('Synthetic 2D Data')\n",
        "plt.grid(True)\n",
        "plt.legend()\n",
        "plt.axis('equal')\n",
        "plt.show()"
      ],
      "metadata": {
        "id": "xbKIFa6xsTL9"
      },
      "execution_count": null,
      "outputs": []
    },
    {
      "cell_type": "markdown",
      "source": [
        "### Step2. Covarinace Matrix"
      ],
      "metadata": {
        "id": "FOKZitPmkax8"
      }
    },
    {
      "cell_type": "code",
      "source": [
        "#IMPLEMENT HERE (cov from scratch)\n",
        "#cov_matrix =\n",
        "#cov =\n"
      ],
      "metadata": {
        "id": "1FOQ0suR9NrL"
      },
      "execution_count": null,
      "outputs": []
    },
    {
      "cell_type": "markdown",
      "source": [
        "### Step3. Eigen Values & Vectors"
      ],
      "metadata": {
        "id": "KnZfYfsVkds2"
      }
    },
    {
      "cell_type": "code",
      "source": [
        "# IMPLEMET HERE (eig_values, eig_vectors using np.linalg.eig)\n",
        "#eig_values, eig_vectors ="
      ],
      "metadata": {
        "id": "MHVnjx04lqJA"
      },
      "execution_count": null,
      "outputs": []
    },
    {
      "cell_type": "markdown",
      "source": [
        "### Step4. Principal Component"
      ],
      "metadata": {
        "id": "j7OeFFWlkiEg"
      }
    },
    {
      "cell_type": "code",
      "source": [
        "# IMPLEMENT HERE (pc1: the larest eigvector principal component, proj_data)\n",
        "#pc1 =\n",
        "#proj_data ="
      ],
      "metadata": {
        "id": "aP1Evmgblsdh"
      },
      "execution_count": null,
      "outputs": []
    },
    {
      "cell_type": "markdown",
      "source": [
        "### Step 5. Reconstructing the original data"
      ],
      "metadata": {
        "id": "OWFvcf7Dl5Eo"
      }
    },
    {
      "cell_type": "code",
      "source": [
        "# IMPLEMENT HERE (recon)\n",
        "#recon =\n",
        "\n",
        "# Plot the original data and its projection\n",
        "plt.scatter(data[:, 0], data[:, 1], alpha=0.5, label='Original Data')\n",
        "plt.scatter(recon[:, 0], recon[:, 1], label='Projected Data')\n",
        "plt.plot(recon[:, 0], recon[:, 1], 'r-')\n",
        "plt.xlabel('X')\n",
        "plt.ylabel('Y')\n",
        "plt.title('Data and Principal Component')\n",
        "plt.grid(True)\n",
        "plt.legend()\n",
        "plt.show()"
      ],
      "metadata": {
        "id": "m7ky7Gr5l2T7"
      },
      "execution_count": null,
      "outputs": []
    },
    {
      "cell_type": "markdown",
      "source": [
        "## Homework: PCA for Image"
      ],
      "metadata": {
        "id": "Ft4xNjULlMif"
      }
    },
    {
      "cell_type": "code",
      "source": [
        "import gdown\n",
        "import numpy as np\n",
        "import matplotlib.pyplot as plt\n",
        "from PIL import Image\n",
        "from numpy.linalg import eig\n",
        "from numpy import cov\n",
        "from pylab import NullLocator\n",
        "from PIL import Image\n",
        "\n",
        "def LoadImage():\n",
        "    file_id = \"1cGDoITS_1sYlnbk8wdGc_WulUMMHGb43\"\n",
        "    url = f\"https://drive.google.com/uc?id={file_id}\"\n",
        "    output = \"horse.png\"\n",
        "    gdown.download(url, output, quiet=False)\n",
        "\n",
        "    image = Image.open(output)\n",
        "    img = np.array(image)\n",
        "    img = img[:, :, 0]\n",
        "\n",
        "    im_width, im_height = image.size\n",
        "    pixel_block = 10\n",
        "    features = []\n",
        "\n",
        "    for i in range(0, im_height, pixel_block):  # row\n",
        "        for j in range(0, im_width, pixel_block):  # column\n",
        "            end_row = i + pixel_block\n",
        "            end_column = j + pixel_block\n",
        "            features.append(img[end_row - pixel_block:end_row, end_column - pixel_block:end_column])\n",
        "\n",
        "    features = np.array(features)\n",
        "    features = features.reshape(features.shape[0], features.shape[1] * features.shape[2])\n",
        "    return features, img"
      ],
      "metadata": {
        "id": "UyW4c2Zrl8D3"
      },
      "execution_count": 19,
      "outputs": []
    },
    {
      "cell_type": "code",
      "source": [
        "def PCA(features, image, n_components):\n",
        "    # IMPLEMET HERE\n",
        "    # step1. centering (X)\n",
        "\n",
        "    # step2. covariance matrix from scratch\n",
        "\n",
        "    # step3. get eigen values/vectors\n",
        "\n",
        "    # step4. principal components using sorting\n",
        "\n",
        "    # projection of X\n",
        "    # Z =\n",
        "\n",
        "    num = 1\n",
        "    plt.figure(figsize=(15, 5))\n",
        "    for component in n_components:\n",
        "        mu = np.mean(features, axis=0)\n",
        "        num_eig, num_features = eig_vectors.shape\n",
        "\n",
        "        # IMPLEMENT HERE\n",
        "        # T =\n",
        "        # E =\n",
        "        # R =\n",
        "\n",
        "        pixel_block = 10\n",
        "        im_height, im_width = 200, 200\n",
        "        reconstructed_image = np.zeros((im_height, im_width))\n",
        "        x = 0\n",
        "        for i in range(0, im_height, pixel_block):  # row\n",
        "            for j in range(0, im_width, pixel_block):  # column\n",
        "                end_row = i + pixel_block\n",
        "                end_column = j + pixel_block\n",
        "                reconstructed_image[end_row - pixel_block:end_row, end_column - pixel_block:end_column] = np.reshape(R[x], (10, 10))\n",
        "                x += 1\n",
        "\n",
        "        ax = plt.subplot(1, len(n_components), num)\n",
        "        ax.axis('off')\n",
        "        num += 1\n",
        "        plt.imshow(np.flipud(reconstructed_image), cmap='gray', origin='lower')\n",
        "        plt.title(f'PCs {component}')\n",
        "\n",
        "# main\n",
        "n_components = [1, 5, 10, 20, 100]\n",
        "features, image = LoadImage()\n",
        "print(features.shape)\n",
        "PCA(features, image, n_components)"
      ],
      "metadata": {
        "id": "SxPqAjiknPUA"
      },
      "execution_count": null,
      "outputs": []
    },
    {
      "cell_type": "markdown",
      "source": [
        "Expected Result\n",
        "\n",
        "<a href=\"https://ibb.co/gLw9F1QJ\"><img src=\"https://i.ibb.co/jPGfZKqD/image.png\" alt=\"image\" border=\"0\"></a>"
      ],
      "metadata": {
        "id": "S2A0yFwvneVG"
      }
    }
  ]
}