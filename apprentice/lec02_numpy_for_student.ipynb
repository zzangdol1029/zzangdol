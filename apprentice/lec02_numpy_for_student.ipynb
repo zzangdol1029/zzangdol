{
  "cells": [
    {
      "cell_type": "markdown",
      "metadata": {
        "id": "z7m-65rSwm3h"
      },
      "source": [
        "# Tutorial Numpy\n",
        "ref: https://numpy.org/doc/stable/user/quickstart.html"
      ]
    },
    {
      "cell_type": "markdown",
      "metadata": {
        "id": "pBRX3EtDWTcY"
      },
      "source": [
        "## Creation"
      ]
    },
    {
      "cell_type": "code",
      "execution_count": 9,
      "metadata": {
        "id": "UkzNrQiDawC9"
      },
      "outputs": [
        {
          "name": "stdout",
          "output_type": "stream",
          "text": [
            "[1 2 3 4 5 6]\n",
            "[0.  0.5 1. ] float64\n",
            "[[1 2 3]\n",
            " [4 5 6]]\n",
            "[[0 0 0]\n",
            " [0 0 0]] int32\n",
            "[[1.]\n",
            " [1.]\n",
            " [1.]] float64\n",
            "[[7 7]\n",
            " [7 7]]\n",
            "[10  8  6  4  2]\n",
            "[0.   0.25 0.5  0.75 1.  ]\n",
            "[[1. 0. 0.]\n",
            " [0. 1. 0.]\n",
            " [0. 0. 1.]]\n",
            "[[0 7 6 4 4]\n",
            " [8 0 6 2 0]] int32\n"
          ]
        }
      ],
      "source": [
        "#@title { vertical-output: true}\n",
        "import numpy as np\n",
        "\n",
        "# (a) Python list로부터 1D int 배열 생성\n",
        "# 목표 출력: [1 2 3 4 5 6], shape=(6,), dtype=int64(플랫폼에 따라 기본 정수)\n",
        "n1 = np.array([1,2,3,4,5,6])\n",
        "print(n1)\n",
        "\n",
        "# (b) 0.0부터 1.5까지 0.5 step의 1D float32 배열 생성\n",
        "# 목표 출력: [0.  0.5 1.  1.5], shape=(4,), dtype=float32\n",
        "n2 = np.arange(0.0, 1.5, 0.5)\n",
        "print(n2, n2.dtype)\n",
        "\n",
        "# (c) 2×3 int 배열 [[1 2 3],[4 5 6]] 생성\n",
        "# 목표 출력:\n",
        "# [[1 2 3]\n",
        "#  [4 5 6]], shape=(2,3), dtype=int64(기본)\n",
        "n3 = np.array([[1,2,3],[4,5,6]])\n",
        "print(n3)\n",
        "\n",
        "# (d) 2×3 zeros, dtype=int32\n",
        "# 목표 출력:\n",
        "# [[0 0 0]\n",
        "#  [0 0 0]], shape=(2,3), dtype=int32\n",
        "n4 = np.zeros((2,3), dtype=np.int32)\n",
        "print(n4, n4.dtype)\n",
        "\n",
        "# (e) 3×1 ones, dtype=float64\n",
        "# 목표 출력:\n",
        "# [[1.]\n",
        "#  [1.]\n",
        "#  [1.]], shape=(3,1), dtype=float64\n",
        "n5 = np.ones((3,1), dtype=np.float64)\n",
        "print(n5, n5.dtype)\n",
        "\n",
        "# (f) 2×2 full(모든 값 7)\n",
        "# 목표 출력:\n",
        "# [[7 7]\n",
        "#  [7 7]], shape=(2,2), dtype=int64(기본)\n",
        "n6 = np.full((2,2), 7)\n",
        "print(n6)\n",
        "\n",
        "# (g) 10부터 0까지 2씩 감소하는 1D int 배열\n",
        "# 목표 출력: [10  8  6  4  2  0], shape=(6,), dtype=int64(기본)\n",
        "n7 = np.arange(10, 0, -2)\n",
        "print(n7)\n",
        "\n",
        "# (h) 0~1 구간을 5등분(양끝 포함)한 1D float 배열\n",
        "# 목표 출력: [0.   0.25 0.5  0.75 1.  ], shape=(5,), dtype=float64(기본)\n",
        "n8 = np.linspace(0, 1, 5)\n",
        "print(n8)\n",
        "\n",
        "# (i) 3×3 단위행렬(identity)\n",
        "# 목표 출력:\n",
        "# [[1. 0. 0.]\n",
        "#  [0. 1. 0.]\n",
        "#  [0. 0. 1.]], shape=(3,3), dtype=float64(기본)\n",
        "n9 = np.eye(3)\n",
        "print(n9)\n",
        "\n",
        "# (j) 시드 고정 난수: 2×5 정수(0~9), dtype=int32\n",
        "# Generator를 사용해 재현 가능하도록 생성\n",
        "# 목표 출력(시드=42):\n",
        "# [[0 7 6 4 4]\n",
        "#  [8 0 6 2 0]], shape=(2,5), dtype=int32\n",
        "rng = np.random.default_rng(42)\n",
        "n10 = rng.integers(0, 10, size=(2,5), dtype=np.int32)\n",
        "print(n10, n10.dtype)"
      ]
    },
    {
      "cell_type": "markdown",
      "metadata": {
        "id": "7lAYTosPXgIF"
      },
      "source": [
        "## Reshape"
      ]
    },
    {
      "cell_type": "code",
      "execution_count": 10,
      "metadata": {
        "id": "gaa-S3CCaybb"
      },
      "outputs": [
        {
          "name": "stdout",
          "output_type": "stream",
          "text": [
            "<built-in method flatten of numpy.ndarray object at 0x109767270>\n",
            "[[0 1 2]\n",
            " [3 4 5]]\n"
          ]
        }
      ],
      "source": [
        "#@title { vertical-output: true}\n",
        "import numpy as np\n",
        "\n",
        "## Reshape\n",
        "r1 = np.arange(6).flatten                 # 목표 출력: [0 1 2 3 4 5]\n",
        "print(r1)\n",
        "\n",
        "r2 = np.arange(6).reshape(2,3)                 # 목표 출력:\n",
        "                           # [[0 1 2]\n",
        "                           #  [3 4 5]]\n",
        "print(r2)\n",
        "\n",
        "r3 = np.arange(6).reshape(2, -1)               # 목표 출력(2행, 열 자동 계산):\n",
        "                           # [[0 1 2]\n",
        "                           #  [3 4 5]]\n",
        "# print(r3)                # ← r3 작성 후 주석 해제하여 출력\n"
      ]
    },
    {
      "cell_type": "markdown",
      "metadata": {
        "id": "a26V9kLXYQ1S"
      },
      "source": [
        "## Basic Operation"
      ]
    },
    {
      "cell_type": "code",
      "execution_count": 11,
      "metadata": {
        "colab": {
          "base_uri": "https://localhost:8080/"
        },
        "id": "tie-3IVEayrK",
        "outputId": "1f78738d-ab73-4ccf-d1db-7ba4cccbad1c"
      },
      "outputs": [
        {
          "name": "stdout",
          "output_type": "stream",
          "text": [
            "[20 29 38 47]\n",
            "[0 1 4 9]\n",
            "[[2 0]\n",
            " [0 4]]\n",
            "[[5 4]\n",
            " [3 4]]\n"
          ]
        }
      ],
      "source": [
        "#@title { vertical-output: true}\n",
        "import numpy as np\n",
        "\n",
        "## Basic Operations 1\n",
        "a = np.array([20, 30, 40, 50])\n",
        "b = np.arange(4)\n",
        "\n",
        "c1 = a - b  # 목표: a - b\n",
        "print(c1)   # [20 29 38 47]\n",
        "\n",
        "c2 = b**2  # 목표: b^2\n",
        "print(c2)   # [0 1 4 9]\n",
        "\n",
        "## Basic Operations 2\n",
        "A = np.array([1, 1, 0, 1]).reshape(2, 2)\n",
        "B = np.array([2, 0, 3, 4]).reshape(2, 2)\n",
        "\n",
        "print(A * B)  # 목표: A (elementwise) B → [[2 0]\n",
        "              #                           [0 4]]\n",
        "print(A @ B)  # 목표: A (matrix) B      → [[5 4]\n",
        "              #                           [3 4]]"
      ]
    },
    {
      "cell_type": "markdown",
      "metadata": {
        "id": "1WFLnMBQYqoG"
      },
      "source": [
        "## Stack"
      ]
    },
    {
      "cell_type": "code",
      "execution_count": 12,
      "metadata": {
        "colab": {
          "base_uri": "https://localhost:8080/"
        },
        "id": "PKI2elYhazP6",
        "outputId": "c8f01c31-13ce-455e-937f-f235ab5f8060"
      },
      "outputs": [
        {
          "name": "stdout",
          "output_type": "stream",
          "text": [
            "[ 1  2  3  4  5  6  7  8  9 10]\n",
            "[[ 1  2  3  4  5]\n",
            " [ 6  7  8  9 10]]\n",
            "[[ 1  2  3  4  5]\n",
            " [ 6  7  8  9 10]\n",
            " [ 1  1  1  1  1]]\n"
          ]
        }
      ],
      "source": [
        "#@title { vertical-output: true}\n",
        "import numpy as np\n",
        "\n",
        "## Stacking together different arrays\n",
        "a = np.array([1,2,3,4,5])\n",
        "b = np.array([6,7,8,9,10])\n",
        "c = np.array([1,1,1,1,1])\n",
        "\n",
        "o1 = np.concatenate([a, b])   # 목표: a와 b를 가로로 결합\n",
        "print(o1)    # [ 1  2  3  4  5  6  7  8  9 10]\n",
        "\n",
        "o2 = np.vstack([a, b])   # 목표: a와 b를 세로로 결합\n",
        "print(o2)    # [[ 1  2  3  4  5]\n",
        "             #  [ 6  7  8  9 10]]\n",
        "\n",
        "o3 = np.vstack([a, b, c])   # 목표: a, b, c를 세로로 결합\n",
        "print(o3)    # [[ 1  2  3  4  5]\n",
        "             #  [ 6  7  8  9 10]\n",
        "             #  [ 1  1  1  1  1]]\n"
      ]
    },
    {
      "cell_type": "markdown",
      "metadata": {
        "id": "pjJEouE-Xjgy"
      },
      "source": [
        "## Copy"
      ]
    },
    {
      "cell_type": "code",
      "execution_count": 13,
      "metadata": {
        "id": "g677dsbrazlo"
      },
      "outputs": [
        {
          "name": "stdout",
          "output_type": "stream",
          "text": [
            "[[0 1 2 3 4]\n",
            " [5 6 7 8 9]]\n",
            "shallow copy\n",
            "[[0 1 2]\n",
            " [5 6 7]]\n",
            "[[2 1 2]\n",
            " [5 6 7]]\n",
            "True\n",
            "True\n",
            "deep copy\n",
            "[[0 1 2]\n",
            " [5 6 7]]\n",
            "[[0 1 2]\n",
            " [5 6 7]]\n",
            "False\n",
            "True\n"
          ]
        }
      ],
      "source": [
        "#@title { vertical-output: true}\n",
        "import numpy as np\n",
        "\n",
        "## Base array\n",
        "x = np.arange(10).reshape(2, 5)\n",
        "print(x)                # [[0 1 2 3 4]\n",
        "                        #  [5 6 7 8 9]]\n",
        "\n",
        "# shallow copy (view)\n",
        "print('shallow copy')\n",
        "x = np.arange(10).reshape(2, 5)\n",
        "y_view = x[0:2, 0:3]          # 목표: x의 [0:2, 0:3] 슬라이스 view 생성\n",
        "print(y_view)           # [[0 1 2]\n",
        "                        #  [5 6 7]]\n",
        "\n",
        "x[0, 0] = 2\n",
        "print(y_view)           # [[2 1 2]\n",
        "                        #  [5 6 7]]\n",
        "print(np.shares_memory(x, y_view))  # True\n",
        "print(y_view.base is x.base)             # True\n",
        "\n",
        "# deep copy\n",
        "print('deep copy')\n",
        "x = np.arange(10).reshape(2, 5)\n",
        "y_copy = x[0:2, 0:3].copy()          # 목표: x의 [0:2, 0:3]을 deep copy로 생성\n",
        "print(y_copy)           # [[0 1 2]\n",
        "                        #  [5 6 7]]\n",
        "\n",
        "x[0, 0] = 2\n",
        "print(y_copy)           # [[0 1 2]\n",
        "                        #  [5 6 7]]  (변화 없음)\n",
        "print(np.shares_memory(x, y_copy))  # False\n",
        "print(y_copy.base is None)          # True\n"
      ]
    },
    {
      "cell_type": "markdown",
      "metadata": {
        "id": "nJbbtiFOc8XS"
      },
      "source": [
        "## Indexing"
      ]
    },
    {
      "cell_type": "code",
      "execution_count": 14,
      "metadata": {
        "colab": {
          "base_uri": "https://localhost:8080/"
        },
        "id": "e8-BFIhMc9ij",
        "outputId": "2f4d2eb5-115b-46aa-b65d-fc615cba80a1"
      },
      "outputs": [
        {
          "name": "stdout",
          "output_type": "stream",
          "text": [
            "[False False False False  True False False  True False False]\n",
            "[9 8]\n",
            "(array([4, 7]),)\n",
            "[0 0 0 0 9 0 0 8 0 0]\n",
            "[ 2  5  1  5  9  4  1 99  3  2]\n",
            "[7 7 7 7 9 7 7 8 7 7]\n"
          ]
        }
      ],
      "source": [
        "#@title { vertical-output: true}\n",
        "import numpy as np\n",
        "\n",
        "## Indexing with Boolean Arrays\n",
        "x = np.array([2,5,1,5,9,4,1,8,3,2])\n",
        "\n",
        "# 1) 5보다 큰지 여부의 Boolean mask\n",
        "mask = x > 5\n",
        "print(mask)         # [False False False False  True False False  True False False]\n",
        "\n",
        "# 2) mask로 필터링: 5보다 큰 원소만 추출\n",
        "high = x[mask]\n",
        "print(high)         # [9 8]\n",
        "\n",
        "# 3) 조건을 만족하는 인덱스 구하기 (np.where 사용)\n",
        "idx = np.where(x > 5)\n",
        "print(idx)          # (array([4, 7]),)\n",
        "\n",
        "# 4) 5 이하(<=5)인 원소를 0으로 치환 (제자리 치환)\n",
        "x2 = x.copy()\n",
        "x2[x <= 5] = 0\n",
        "print(x2)           # [0 0 0 0 9 0 0 8 0 0]\n",
        "\n",
        "# 5) 복합 조건: 짝수이면서(EVEN) 5 초과만 99로 변경\n",
        "x3 = x.copy()\n",
        "x3[(x % 2 == 0) & (x > 5)] = 99\n",
        "print(x3)           # [ 2  5  1  5  9  4  1 99  3  2]\n",
        "\n",
        "# 6) 부정(NOT): 5 초과가 아닌(~) 것만 7로 변경\n",
        "x4 = x.copy()\n",
        "x4[~mask] = 7\n",
        "print(x4)           # [7 7 7 7 9 7 7 8 7 7]"
      ]
    },
    {
      "cell_type": "markdown",
      "metadata": {
        "id": "KlOUu3QQZns1"
      },
      "source": [
        "## Performance Test"
      ]
    },
    {
      "cell_type": "code",
      "execution_count": 15,
      "metadata": {
        "colab": {
          "base_uri": "https://localhost:8080/"
        },
        "id": "b3pKWpLu1aHB",
        "outputId": "e51f0118-3947-47aa-96f7-ce2e26c3f506"
      },
      "outputs": [
        {
          "name": "stdout",
          "output_type": "stream",
          "text": [
            "result: 333332833333500000\n",
            "list : 70.858 ms\n",
            "result: 333332833333500000\n",
            "numpy : 0.301 ms\n"
          ]
        }
      ],
      "source": [
        "#@title { vertical-output: true}\n",
        "## Example How fast performance\n",
        "import numpy as np\n",
        "import time\n",
        "\n",
        "NUM = 1000000\n",
        "\n",
        "# METHOD 1 (using list)\n",
        "A = list(range(0,NUM))\n",
        "B = list(range(0,NUM))\n",
        "result = 0\n",
        "t0 = time.time()\n",
        "\n",
        "for a, b in zip(A, B):\n",
        "    result += a * b\n",
        "\n",
        "t1 = time.time()\n",
        "print(f'result: {result}')\n",
        "print(f'list : {(t1-t0)*1e3:.3f} ms')\n",
        "\n",
        "# METHOD 2 (using numpy)\n",
        "A = np.array(range(0,NUM))\n",
        "B = np.array(range(0,NUM))\n",
        "result = 0\n",
        "t0 = time.time()\n",
        "\n",
        "result = np.dot(A, B)\n",
        "\n",
        "t1 = time.time()\n",
        "print(f'result: {result}')\n",
        "print(f'numpy : {(t1-t0)*1e3:.3f} ms')"
      ]
    },
    {
      "cell_type": "markdown",
      "metadata": {
        "id": "_srE5Qq6m6jz"
      },
      "source": [
        "## Homework\n",
        "NUM의 갯수가 1e1, 1e2, 1e3, ~ 1e6 으로 증가하면서 성능 차이를 그래프로 표시하세요\n",
        "<a href=\"https://ibb.co/G1V3rgP\"><img src=\"https://i.ibb.co/rLZfXny/image.png\" alt=\"image\" border=\"0\"></a>\n",
        "\n"
      ]
    },
    {
      "cell_type": "code",
      "execution_count": 18,
      "metadata": {
        "id": "SG8M0FI6lryd"
      },
      "outputs": [
        {
          "data": {
            "image/png": "[encoded data removed]",
            "text/plain": [
              "<Figure size 640x480 with 1 Axes>"
            ]
          },
          "metadata": {},
          "output_type": "display_data"
        }
      ],
      "source": [
        "import numpy as np\n",
        "import time\n",
        "import matplotlib.pyplot as plt\n",
        "\n",
        "# NUM의 갯수가 1e1, 1e2, 1e3, ~ 1e6 으로 증가하면서 성능 차이를 그래프로 표시\n",
        "SCALES = [10**i for i in range(1, 7)]  # [10, 100, 1000, 10000, 100000, 1000000]\n",
        "list_ms = []\n",
        "numpy_ms = []\n",
        "\n",
        "for NUM in SCALES:\n",
        "    # METHOD 1 (using list)\n",
        "    A = list(range(0, NUM))\n",
        "    B = list(range(0, NUM))\n",
        "    result = 0\n",
        "    t0 = time.time()\n",
        "    \n",
        "    for a, b in zip(A, B):\n",
        "        result += a * b\n",
        "    \n",
        "    t1 = time.time()\n",
        "    list_time = (t1-t0)*1e3\n",
        "    list_ms.append(list_time)\n",
        "    \n",
        "    # METHOD 2 (using numpy)\n",
        "    A = np.array(range(0, NUM))\n",
        "    B = np.array(range(0, NUM))\n",
        "    result = 0\n",
        "    t0 = time.time()\n",
        "    \n",
        "    result = np.dot(A, B)\n",
        "    \n",
        "    t1 = time.time()\n",
        "    numpy_time = (t1-t0)*1e3\n",
        "    numpy_ms.append(numpy_time)\n",
        "\n",
        "plt.figure()\n",
        "plt.plot(SCALES, list_ms,  marker=\"o\", label=\"list (loop)\")\n",
        "plt.plot(SCALES, numpy_ms, marker=\"o\", label=\"NumPy (dot)\")\n",
        "plt.xscale(\"log\")\n",
        "plt.xlabel(\"NUM (log)\")\n",
        "plt.ylabel(\"Time (ms)\")\n",
        "plt.title(\"Performance: Python loop vs NumPy dot\")\n",
        "plt.legend()\n",
        "plt.tight_layout()\n",
        "plt.show()"
      ]
    }
  ],
  "metadata": {
    "colab": {
      "provenance": []
    },
    "kernelspec": {
      "display_name": "ai",
      "language": "python",
      "name": "python3"
    },
    "language_info": {
      "codemirror_mode": {
        "name": "ipython",
        "version": 3
      },
      "file_extension": ".py",
      "mimetype": "text/x-python",
      "name": "python",
      "nbconvert_exporter": "python",
      "pygments_lexer": "ipython3",
      "version": "3.9.18"
    }
  },
  "nbformat": 4,
  "nbformat_minor": 0
}
