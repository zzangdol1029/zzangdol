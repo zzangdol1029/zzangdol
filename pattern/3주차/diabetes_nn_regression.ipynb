{
 "cells": [
  {
   "cell_type": "markdown",
   "id": "920f367d4e7ef516",
   "metadata": {},
   "source": [
    "# Neural Network Regression: Diabetes Dataset\n",
    "\n",
    "이 노트북에서는 **Diabetes 데이터셋**을 활용하여 신경망 회귀 모델을 학습합니다.\n",
    "※ Diabetes 데이터셋은 당뇨병 진행 정도를 예측하는 회귀 문제입니다.\n",
    "- 데이터셋 출처: [sklearn.datasets.load_diabetes](https://scikit-learn.org/stable/modules/generated/sklearn.datasets.load_diabetes.html)\n",
    "- 데이터셋 설명: 10개의 특성(나이, 성별, 체질량지수 등)과 1개의 타겟 변수(1년 후 당뇨병 진행 정도)로 구성되어 있습니다.\n",
    "\n",
    "## 목표\n",
    "1. 데이터 불러오기 및 전처리\n",
    "2. Neural Network 모델 정의\n",
    "3. 학습 및 학습 곡선 확인\n",
    "4. 성능 평가 및 예측 시각화\n"
   ]
  },
  {
   "cell_type": "code",
   "execution_count": null,
   "id": "c8a78591",
   "metadata": {},
   "outputs": [],
   "source": [
    "# 한글 폰트 설정\n",
    "import matplotlib.font_manager as fm\n",
    "import matplotlib.pyplot as plt\n",
    "import warnings\n",
    "warnings.filterwarnings('ignore')\n",
    "\n",
    "# 사용 가능한 한글 폰트 찾기\n",
    "font_list = [f.name for f in fm.fontManager.ttflist]\n",
    "korean_fonts = [f for f in font_list if any(keyword in f.lower() for keyword in ['apple', 'nanum', 'malgun', 'gothic', 'dotum'])]\n",
    "\n",
    "# 가장 적합한 한글 폰트 선택\n",
    "if 'Apple SD Gothic Neo' in korean_fonts:\n",
    "    selected_font = 'Apple SD Gothic Neo'\n",
    "elif 'Nanum Myeongjo' in korean_fonts:\n",
    "    selected_font = 'Nanum Myeongjo'\n",
    "elif 'AppleGothic' in korean_fonts:\n",
    "    selected_font = 'AppleGothic'\n",
    "elif 'Malgun Gothic' in korean_fonts:\n",
    "    selected_font = 'Malgun Gothic'\n",
    "else:\n",
    "    selected_font = korean_fonts[0] if korean_fonts else 'DejaVu Sans'\n",
    "\n",
    "# 폰트 설정 적용\n",
    "plt.rcParams.update({\n",
    "    'font.family': selected_font,\n",
    "    'font.size': 10,\n",
    "    'axes.unicode_minus': False,\n",
    "    'figure.autolayout': True,\n",
    "    'axes.grid': True,\n",
    "    'grid.alpha': 0.3\n",
    "})\n",
    "\n",
    "print(f\"선택된 폰트: {selected_font}\")\n",
    "print(\"한글 폰트 설정 완료!\")\n"
   ]
  },
  {
   "cell_type": "code",
   "execution_count": 1,
   "id": "967d677302c0020b",
   "metadata": {
    "ExecuteTime": {
     "end_time": "2025-09-16T09:07:34.970050Z",
     "start_time": "2025-09-16T09:07:31.500626Z"
    }
   },
   "outputs": [],
   "source": [
    "import tensorflow as tf\n",
    "import numpy as np\n",
    "import matplotlib.pyplot as plt\n",
    "from sklearn.datasets import load_diabetes\n",
    "from sklearn.model_selection import train_test_split\n",
    "from sklearn.preprocessing import StandardScaler"
   ]
  },
  {
   "cell_type": "markdown",
   "id": "21144c1ffa7a086d",
   "metadata": {},
   "source": [
    "## 1. 데이터 불러오기"
   ]
  },
  {
   "cell_type": "code",
   "execution_count": 2,
   "id": "308033bf4a940024",
   "metadata": {
    "ExecuteTime": {
     "end_time": "2025-09-16T09:07:34.994102Z",
     "start_time": "2025-09-16T09:07:34.979353Z"
    }
   },
   "outputs": [
    {
     "name": "stdout",
     "output_type": "stream",
     "text": [
      "Feature shape: (442, 10)\n",
      "Target shape: (442,)\n"
     ]
    }
   ],
   "source": [
    "diabetes = load_diabetes()\n",
    "X, y = diabetes.data, diabetes.target\n",
    "\n",
    "print(\"Feature shape:\", X.shape)\n",
    "print(\"Target shape:\", y.shape)"
   ]
  },
  {
   "cell_type": "code",
   "execution_count": 3,
   "id": "daac3669160b8e74",
   "metadata": {
    "ExecuteTime": {
     "end_time": "2025-09-16T09:07:35.188598Z",
     "start_time": "2025-09-16T09:07:35.183782Z"
    }
   },
   "outputs": [
    {
     "name": "stdout",
     "output_type": "stream",
     "text": [
      "[ 0.03807591  0.05068012  0.06169621  0.02187239 -0.0442235  -0.03482076\n",
      " -0.04340085 -0.00259226  0.01990749 -0.01764613]\n",
      "151.0\n"
     ]
    }
   ],
   "source": [
    "print(X[0, :])  # 첫 번째 샘플의 특성 값\n",
    "print(y[0])     # 첫 번째 샘플의 타겟 값"
   ]
  },
  {
   "cell_type": "markdown",
   "id": "1b6348249c416126",
   "metadata": {},
   "source": [
    "## 2. 데이터 분리 및 전처리"
   ]
  },
  {
   "cell_type": "code",
   "execution_count": 20,
   "id": "e346f1687ac152d",
   "metadata": {
    "ExecuteTime": {
     "end_time": "2025-09-16T05:27:47.430301Z",
     "start_time": "2025-09-16T05:27:47.424116Z"
    }
   },
   "outputs": [
    {
     "name": "stdout",
     "output_type": "stream",
     "text": [
      "훈련 데이터 shape: (353, 10) (353,)\n",
      "테스트 데이터 shape: (89, 10) (89,)\n"
     ]
    }
   ],
   "source": [
    "X_train, X_test, y_train, y_test = train_test_split(\n",
    "    X, y, test_size=0.2, random_state=42\n",
    ")\n",
    "\n",
    "print(\"훈련 데이터 shape:\", X_train.shape, y_train.shape)\n",
    "print(\"테스트 데이터 shape:\", X_test.shape, y_test.shape)\n",
    "\n",
    "scaler = StandardScaler()\n",
    "X_train = scaler.fit_transform(X_train)\n",
    "X_test = scaler.transform(X_test)"
   ]
  },
  {
   "cell_type": "markdown",
   "id": "59c0b0475de6287e",
   "metadata": {},
   "source": [
    "## 3. 모델 정의"
   ]
  },
  {
   "cell_type": "code",
   "execution_count": 21,
   "id": "79a2b29ed9f835fe",
   "metadata": {
    "ExecuteTime": {
     "end_time": "2025-09-16T05:27:47.477794Z",
     "start_time": "2025-09-16T05:27:47.448730Z"
    }
   },
   "outputs": [
    {
     "name": "stderr",
     "output_type": "stream",
     "text": [
      "C:\\Users\\kimyo\\anaconda3\\envs\\PR\\Lib\\site-packages\\keras\\src\\layers\\core\\dense.py:92: UserWarning: Do not pass an `input_shape`/`input_dim` argument to a layer. When using Sequential models, prefer using an `Input(shape)` object as the first layer in the model instead.\n",
      "  super().__init__(activity_regularizer=activity_regularizer, **kwargs)\n"
     ]
    },
    {
     "data": {
      "text/html": [
       "<pre style=\"white-space:pre;overflow-x:auto;line-height:normal;font-family:Menlo,'DejaVu Sans Mono',consolas,'Courier New',monospace\"><span style=\"font-weight: bold\">Model: \"sequential_2\"</span>\n",
       "</pre>\n"
      ],
      "text/plain": [
       "\u001b[1mModel: \"sequential_2\"\u001b[0m\n"
      ]
     },
     "metadata": {},
     "output_type": "display_data"
    },
    {
     "data": {
      "text/html": [
       "<pre style=\"white-space:pre;overflow-x:auto;line-height:normal;font-family:Menlo,'DejaVu Sans Mono',consolas,'Courier New',monospace\">┏━━━━━━━━━━━━━━━━━━━━━━━━━━━━━━━━━┳━━━━━━━━━━━━━━━━━━━━━━━━┳━━━━━━━━━━━━━━━┓\n",
       "┃<span style=\"font-weight: bold\"> Layer (type)                    </span>┃<span style=\"font-weight: bold\"> Output Shape           </span>┃<span style=\"font-weight: bold\">       Param # </span>┃\n",
       "┡━━━━━━━━━━━━━━━━━━━━━━━━━━━━━━━━━╇━━━━━━━━━━━━━━━━━━━━━━━━╇━━━━━━━━━━━━━━━┩\n",
       "│ dense_6 (<span style=\"color: #0087ff; text-decoration-color: #0087ff\">Dense</span>)                 │ (<span style=\"color: #00d7ff; text-decoration-color: #00d7ff\">None</span>, <span style=\"color: #00af00; text-decoration-color: #00af00\">64</span>)             │           <span style=\"color: #00af00; text-decoration-color: #00af00\">704</span> │\n",
       "├─────────────────────────────────┼────────────────────────┼───────────────┤\n",
       "│ dense_7 (<span style=\"color: #0087ff; text-decoration-color: #0087ff\">Dense</span>)                 │ (<span style=\"color: #00d7ff; text-decoration-color: #00d7ff\">None</span>, <span style=\"color: #00af00; text-decoration-color: #00af00\">32</span>)             │         <span style=\"color: #00af00; text-decoration-color: #00af00\">2,080</span> │\n",
       "├─────────────────────────────────┼────────────────────────┼───────────────┤\n",
       "│ dense_8 (<span style=\"color: #0087ff; text-decoration-color: #0087ff\">Dense</span>)                 │ (<span style=\"color: #00d7ff; text-decoration-color: #00d7ff\">None</span>, <span style=\"color: #00af00; text-decoration-color: #00af00\">1</span>)              │            <span style=\"color: #00af00; text-decoration-color: #00af00\">33</span> │\n",
       "└─────────────────────────────────┴────────────────────────┴───────────────┘\n",
       "</pre>\n"
      ],
      "text/plain": [
       "┏━━━━━━━━━━━━━━━━━━━━━━━━━━━━━━━━━┳━━━━━━━━━━━━━━━━━━━━━━━━┳━━━━━━━━━━━━━━━┓\n",
       "┃\u001b[1m \u001b[0m\u001b[1mLayer (type)                   \u001b[0m\u001b[1m \u001b[0m┃\u001b[1m \u001b[0m\u001b[1mOutput Shape          \u001b[0m\u001b[1m \u001b[0m┃\u001b[1m \u001b[0m\u001b[1m      Param #\u001b[0m\u001b[1m \u001b[0m┃\n",
       "┡━━━━━━━━━━━━━━━━━━━━━━━━━━━━━━━━━╇━━━━━━━━━━━━━━━━━━━━━━━━╇━━━━━━━━━━━━━━━┩\n",
       "│ dense_6 (\u001b[38;5;33mDense\u001b[0m)                 │ (\u001b[38;5;45mNone\u001b[0m, \u001b[38;5;34m64\u001b[0m)             │           \u001b[38;5;34m704\u001b[0m │\n",
       "├─────────────────────────────────┼────────────────────────┼───────────────┤\n",
       "│ dense_7 (\u001b[38;5;33mDense\u001b[0m)                 │ (\u001b[38;5;45mNone\u001b[0m, \u001b[38;5;34m32\u001b[0m)             │         \u001b[38;5;34m2,080\u001b[0m │\n",
       "├─────────────────────────────────┼────────────────────────┼───────────────┤\n",
       "│ dense_8 (\u001b[38;5;33mDense\u001b[0m)                 │ (\u001b[38;5;45mNone\u001b[0m, \u001b[38;5;34m1\u001b[0m)              │            \u001b[38;5;34m33\u001b[0m │\n",
       "└─────────────────────────────────┴────────────────────────┴───────────────┘\n"
      ]
     },
     "metadata": {},
     "output_type": "display_data"
    },
    {
     "data": {
      "text/html": [
       "<pre style=\"white-space:pre;overflow-x:auto;line-height:normal;font-family:Menlo,'DejaVu Sans Mono',consolas,'Courier New',monospace\"><span style=\"font-weight: bold\"> Total params: </span><span style=\"color: #00af00; text-decoration-color: #00af00\">2,817</span> (11.00 KB)\n",
       "</pre>\n"
      ],
      "text/plain": [
       "\u001b[1m Total params: \u001b[0m\u001b[38;5;34m2,817\u001b[0m (11.00 KB)\n"
      ]
     },
     "metadata": {},
     "output_type": "display_data"
    },
    {
     "data": {
      "text/html": [
       "<pre style=\"white-space:pre;overflow-x:auto;line-height:normal;font-family:Menlo,'DejaVu Sans Mono',consolas,'Courier New',monospace\"><span style=\"font-weight: bold\"> Trainable params: </span><span style=\"color: #00af00; text-decoration-color: #00af00\">2,817</span> (11.00 KB)\n",
       "</pre>\n"
      ],
      "text/plain": [
       "\u001b[1m Trainable params: \u001b[0m\u001b[38;5;34m2,817\u001b[0m (11.00 KB)\n"
      ]
     },
     "metadata": {},
     "output_type": "display_data"
    },
    {
     "data": {
      "text/html": [
       "<pre style=\"white-space:pre;overflow-x:auto;line-height:normal;font-family:Menlo,'DejaVu Sans Mono',consolas,'Courier New',monospace\"><span style=\"font-weight: bold\"> Non-trainable params: </span><span style=\"color: #00af00; text-decoration-color: #00af00\">0</span> (0.00 B)\n",
       "</pre>\n"
      ],
      "text/plain": [
       "\u001b[1m Non-trainable params: \u001b[0m\u001b[38;5;34m0\u001b[0m (0.00 B)\n"
      ]
     },
     "metadata": {},
     "output_type": "display_data"
    }
   ],
   "source": [
    "model = tf.keras.Sequential([\n",
    "    tf.keras.layers.Dense(64, activation=\"relu\", input_shape=(X_train.shape[1],)),\n",
    "    tf.keras.layers.Dense(32, activation=\"relu\"),\n",
    "    tf.keras.layers.Dense(1)\n",
    "])\n",
    "\n",
    "model.summary()"
   ]
  },
  {
   "cell_type": "markdown",
   "id": "3ae435a3ba8dc4fe",
   "metadata": {},
   "source": [
    "## 4. 모델 컴파일"
   ]
  },
  {
   "cell_type": "code",
   "execution_count": 22,
   "id": "1b40e80cbcd08b27",
   "metadata": {
    "ExecuteTime": {
     "end_time": "2025-09-16T05:27:47.582682Z",
     "start_time": "2025-09-16T05:27:47.575331Z"
    }
   },
   "outputs": [],
   "source": [
    "model.compile(optimizer=tf.keras.optimizers.SGD(learning_rate=0.01),\n",
    "              loss=\"mse\",\n",
    "              metrics=[\"mae\"])"
   ]
  },
  {
   "cell_type": "markdown",
   "id": "67de42e31b2922c",
   "metadata": {},
   "source": [
    "## 5. 모델 학습"
   ]
  },
  {
   "cell_type": "code",
   "execution_count": 23,
   "id": "6a9a31fed93c02a0",
   "metadata": {
    "ExecuteTime": {
     "end_time": "2025-09-16T05:27:56.937306Z",
     "start_time": "2025-09-16T05:27:47.604199Z"
    }
   },
   "outputs": [],
   "source": [
    "history = model.fit(X_train, y_train,\n",
    "                    epochs=100,\n",
    "                    batch_size=16,\n",
    "                    validation_data=(X_test, y_test),\n",
    "                    verbose=0)"
   ]
  },
  {
   "cell_type": "markdown",
   "id": "a599102f5d5eccb0",
   "metadata": {},
   "source": [
    "## 6. 학습 곡선 확인"
   ]
  },
  {
   "cell_type": "code",
   "execution_count": 24,
   "id": "6e4a36b4baf0be7",
   "metadata": {
    "ExecuteTime": {
     "end_time": "2025-09-16T05:27:57.117321Z",
     "start_time": "2025-09-16T05:27:56.952626Z"
    }
   },
   "outputs": [
    {
     "data": {
      "image/png": "[encoded data removed]",
      "text/plain": [
       "<Figure size 640x480 with 1 Axes>"
      ]
     },
     "metadata": {},
     "output_type": "display_data"
    },
    {
     "data": {
      "image/png": "[encoded data removed]",
      "text/plain": [
       "<Figure size 640x480 with 1 Axes>"
      ]
     },
     "metadata": {},
     "output_type": "display_data"
    }
   ],
   "source": [
    "plt.plot(history.history['loss'], label=\"Train Loss (MSE)\")\n",
    "plt.plot(history.history['val_loss'], label=\"Val Loss (MSE)\")\n",
    "plt.xlabel(\"Epoch\")\n",
    "plt.ylabel(\"MSE Loss\")\n",
    "plt.legend()\n",
    "plt.title(\"Training & Validation Loss\")\n",
    "plt.show()\n",
    "\n",
    "plt.plot(history.history['mae'], label=\"Train MAE\")\n",
    "plt.plot(history.history['val_mae'], label=\"Val MAE\")\n",
    "plt.xlabel(\"Epoch\")\n",
    "plt.ylabel(\"MAE\")\n",
    "plt.legend()\n",
    "plt.title(\"Training & Validation MAE\")\n",
    "plt.show()"
   ]
  },
  {
   "cell_type": "markdown",
   "id": "c18d186c650b8fa2",
   "metadata": {},
   "source": [
    "## 7. 모델 평가"
   ]
  },
  {
   "cell_type": "code",
   "execution_count": 25,
   "id": "29525678930ff99",
   "metadata": {
    "ExecuteTime": {
     "end_time": "2025-09-16T05:27:57.194366Z",
     "start_time": "2025-09-16T05:27:57.133314Z"
    }
   },
   "outputs": [
    {
     "name": "stdout",
     "output_type": "stream",
     "text": [
      "테스트 MAE: 42.120\n"
     ]
    }
   ],
   "source": [
    "loss, mae = model.evaluate(X_test, y_test, verbose=0)\n",
    "print(f\"테스트 MAE: {mae:.3f}\")"
   ]
  }
 ],
 "metadata": {
  "kernelspec": {
   "display_name": "Python 3",
   "language": "python",
   "name": "python3"
  },
  "language_info": {
   "name": "python",
   "version": "3.x"
  }
 },
 "nbformat": 4,
 "nbformat_minor": 5
}
